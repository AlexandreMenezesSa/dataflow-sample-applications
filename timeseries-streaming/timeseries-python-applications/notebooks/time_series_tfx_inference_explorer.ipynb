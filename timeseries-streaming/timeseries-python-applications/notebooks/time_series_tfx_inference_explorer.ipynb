{
 "cells": [
  {
   "cell_type": "code",
   "execution_count": null,
   "metadata": {},
   "outputs": [],
   "source": [
    "# Copyright 2020 Google LLC. All Rights Reserved.\n",
    "\n",
    "# Licensed under the Apache License, Version 2.0 (the \"License\");\n",
    "# you may not use this file except in compliance with the License.\n",
    "# You may obtain a copy of the License at\n",
    "\n",
    "#     http://www.apache.org/licenses/LICENSE-2.0\n",
    "\n",
    "# Unless required by applicable law or agreed to in writing, software\n",
    "# distributed under the License is distributed on an \"AS IS\" BASIS,\n",
    "# WITHOUT WARRANTIES OR CONDITIONS OF ANY KIND, either express or implied.\n",
    "# See the License for the specific language governing permissions and\n",
    "# limitations under the License."
   ]
  },
  {
   "cell_type": "code",
   "execution_count": null,
   "metadata": {},
   "outputs": [],
   "source": [
    "# With the exception of matplotlib all other requirements are the same as \n",
    "!pip install matplotlib"
   ]
  },
  {
   "cell_type": "markdown",
   "metadata": {},
   "source": [
    "# Timeseries sample notebook\n",
    "\n",
    "This notebook can be used to explore the various stages of data engineering used within the time series library. It has various sections, which correspond to different parts of the ML part of the solution.\n",
    "\n",
    "The Java part of the library is not explored yet, this will be made availabel through Apache Beam xlang transforms at a later date.\n",
    "\n",
    "The notebook will make use of the libraries made avialable via the timeseries python samples. This notebook should be run from within a virtual env that has those samples installed.\n",
    "\n",
    "## [Inference](#inference) \n",
    "* [Explore Inference Batch](#b_inference)\n",
    "* [Explore Inference Stream](#s_inference)"
   ]
  },
  {
   "cell_type": "code",
   "execution_count": null,
   "metadata": {},
   "outputs": [],
   "source": [
    "import os\n",
    "import pprint\n",
    "import tempfile\n",
    "import urllib\n",
    "\n",
    "import absl\n",
    "import tensorflow as tf\n",
    "import tensorflow_model_analysis as tfma\n",
    "tf.get_logger().propagate = False\n",
    "pp = pprint.PrettyPrinter()\n",
    "\n",
    "import pandas as pd \n",
    "from datetime import datetime\n",
    "\n",
    "import matplotlib\n",
    "\n",
    "import apache_beam as beam\n",
    "\n",
    "# Import the tfx components we will make use of.\n",
    "import tfx\n",
    "from tfx.components.example_gen.import_example_gen.component import ImportExampleGen\n",
    "from tfx.components import Evaluator\n",
    "from tfx.components import ExampleValidator\n",
    "from tfx.components import Pusher\n",
    "from tfx.components import ResolverNode\n",
    "from tfx.components import SchemaGen\n",
    "from tfx.components import StatisticsGen\n",
    "from tfx.components import Trainer\n",
    "from tfx.components import Transform\n",
    "\n",
    "from tfx.components.base import executor_spec\n",
    "from tfx.components.trainer.executor import GenericExecutor\n",
    "\n",
    "from tfx.dsl.experimental import latest_blessed_model_resolver\n",
    "from tfx.orchestration import metadata\n",
    "from tfx.orchestration import pipeline\n",
    "from tfx.orchestration.experimental.interactive.interactive_context import InteractiveContext\n",
    "from tfx.proto import pusher_pb2\n",
    "from tfx.proto import trainer_pb2\n",
    "from tfx.proto.evaluator_pb2 import SingleSlicingSpec\n",
    "from tfx.utils.dsl_utils import external_input\n",
    "from tfx.types import Channel\n",
    "from tfx.types.standard_artifacts import Model\n",
    "from tfx.types.standard_artifacts import ModelBlessing\n",
    "\n",
    "%load_ext tfx.orchestration.experimental.interactive.notebook_extensions.skip\n",
    "\n",
    "print('TF version', tf.__version__, '\\nTFX version', tfx.__version__)"
   ]
  },
  {
   "cell_type": "markdown",
   "metadata": {},
   "source": [
    "# <a id = \"inference\"> Inference </a>\n",
    "\n",
    "The two examples below use the same code with the exception of the source, one being bounded the other unbounded\n",
    "\n",
    "* Batch\n",
    "* Streaming\n"
   ]
  },
  {
   "cell_type": "code",
   "execution_count": null,
   "metadata": {},
   "outputs": [],
   "source": [
    "INFERENCE_EXAMPLES= os.path.expanduser('~/demo/timeseries/data/inference/data')\n",
    "print(f'The path {INFERENCE_EXAMPLES} should contain the inference TF.Example files')\n",
    "\n",
    "SAVED_MODEL_LOCATION = os.path.expanduser('~/demo/timeseries/serving_model_dir/')"
   ]
  },
  {
   "cell_type": "code",
   "execution_count": null,
   "metadata": {},
   "outputs": [],
   "source": [
    "# Before we run the inference, we will plot the data to see what things look like with a few outliers\n",
    "\n",
    "# Given a Dataset with time series examples, extract the LAST value\n",
    "def convert_time_series_data_to_raw_values(dataset: tf.data.Dataset, num_records: int, num_timesteps : int):\n",
    "    for tfrecord in dataset.take(num_records):\n",
    "        serialized_example = tfrecord.numpy()\n",
    "        example = tf.train.Example()\n",
    "        example.ParseFromString(serialized_example)\n",
    "        features = example.features.feature\n",
    "        \n",
    "        output = {}\n",
    "        # Extract the time bounds\n",
    "        output['span_start_timestamp'] = datetime.fromtimestamp(features['METADATA_SPAN_START_TS'].int64_list.value[0] / 1000)\n",
    "        output['span_end_timestamp'] = datetime.fromtimestamp(features['METADATA_SPAN_END_TS'].int64_list.value[0] / 1000)\n",
    "        \n",
    "        for key in features:\n",
    "            if key.endswith('-LAST') or key.endswith('-FIRST'):\n",
    "                output[key] = features[key].float_list.value[num_timesteps-1]\n",
    "        yield output\n",
    "\n",
    "        # Get the list of files in this directory (all compressed TFRecord files)\n",
    "tfrecord_filenames = [os.path.join(INFERENCE_EXAMPLES, name)\n",
    "                      for name in os.listdir(INFERENCE_EXAMPLES) if name.startswith('time')]\n",
    "\n",
    "# Create a `TFRecordDataset` to read these files\n",
    "dataset = tf.data.TFRecordDataset(tfrecord_filenames)\n",
    "\n",
    "output = convert_time_series_data_to_raw_values(dataset,num_records=2000, num_timesteps=5)\n",
    "df = pd.DataFrame.from_dict(output)\n",
    "df.plot('span_end_timestamp',y=['value-LAST', 'value-FIRST'],figsize=(18,9))"
   ]
  },
  {
   "cell_type": "code",
   "execution_count": null,
   "metadata": {},
   "outputs": [],
   "source": [
    "print(df.sort_values(by=['span_end_timestamp'], inplace=False).to_string())"
   ]
  },
  {
   "cell_type": "code",
   "execution_count": null,
   "metadata": {},
   "outputs": [],
   "source": [
    "from typing import Dict, Text, Any\n",
    "\n",
    "class OutputOutliers(beam.DoFn):\n",
    "    \"\"\"\n",
    "    Naive threshold based entirely on % difference cutoff value.\n",
    "    \"\"\"\n",
    "\n",
    "    # TODO(BEAM-6158): Revert the workaround once we can pickle super() on py3.\n",
    "    def __init__(self, threshold: int = 5, *unused_args, **unused_kwargs):\n",
    "        beam.DoFn.__init__(self)\n",
    "        self.threshold = threshold\n",
    "\n",
    "    def process(self, element: Dict[Text, Any], *unused_args, **unused_kwargs):\n",
    "\n",
    "        for k in element.keys():\n",
    "            if k.endswith('-LAST') or k.endswith('-FIRST'):\n",
    "                span_start_timestamp = element['span_start_timestamp']\n",
    "                span_end_timestamp = element['span_end_timestamp']\n",
    "                input_value = element[k]['input_value']\n",
    "                output_value = element[k]['output_value']\n",
    "                raw_data = element[k]['raw_data_array']\n",
    "                diff = abs(input_value - output_value)\n",
    "                if diff > self.threshold:\n",
    "                    output = {'span_start_timestamp': span_start_timestamp,\n",
    "                               'span_end_timestamp':span_end_timestamp,\n",
    "                               'output_value': output_value,\n",
    "                               'input_value' : input_value}\n",
    "                    if k.endswith('-LAST'):\n",
    "                        output['last_value_anom'] = 0\n",
    "                    else:\n",
    "                        output['first_value_anom'] = 0\n",
    "                    yield output\n"
   ]
  },
  {
   "cell_type": "code",
   "execution_count": null,
   "metadata": {},
   "outputs": [],
   "source": [
    "import sys\n",
    "import argparse\n",
    "import apache_beam as beam\n",
    "from google.protobuf.json_format import Parse\n",
    "from tfx_bsl.public.beam import RunInference\n",
    "from tfx_bsl.public.proto import model_spec_pb2\n",
    "from timeseries.transforms import process_inference_return\n",
    "\n",
    "from apache_beam.options import pipeline_options\n",
    "from apache_beam.options.pipeline_options import GoogleCloudOptions\n",
    "import google.auth\n",
    "\n",
    "import apache_beam as beam\n",
    "from apache_beam.runners.interactive.interactive_runner import InteractiveRunner\n",
    "import apache_beam.runners.interactive.interactive_beam as ib\n",
    "\n",
    "\"\"\"\n",
    "Run inference pipeline using data generated from streaming pipeline.\n",
    "\"\"\"\n",
    "\n",
    "tfrecord_filenames = os.path.join(INFERENCE_EXAMPLES, 'tim*')\n",
    "\n",
    "options = pipeline_options.PipelineOptions()\n",
    "\n",
    "pipeline = beam.Pipeline(InteractiveRunner(), options=options)\n",
    "\n",
    "_ = (\n",
    "        pipeline\n",
    "            | \"ReadTFExample\" >> beam.io.tfrecordio.ReadFromTFRecord(file_pattern=tfrecord_filenames)\n",
    "            | 'ParseExamples' >> beam.Map(tf.train.Example.FromString)\n",
    "            | RunInference(\n",
    "                    model_spec_pb2.InferenceSpecType(\n",
    "                            saved_model_spec=model_spec_pb2.SavedModelSpec(\n",
    "                                    signature_name=['serving_default'],\n",
    "                                    model_path=SAVED_MODEL_LOCATION)))\n",
    "            | beam.ParDo(process_inference_return.ProcessReturn())\n",
    "            | beam.ParDo(OutputOutliers()))\n",
    "\n",
    "df_anom = ib.collect(_) "
   ]
  },
  {
   "cell_type": "code",
   "execution_count": null,
   "metadata": {},
   "outputs": [],
   "source": [
    "print(df_anom.sort_values(by=['span_end_timestamp'], inplace=False).to_string())"
   ]
  },
  {
   "cell_type": "code",
   "execution_count": null,
   "metadata": {},
   "outputs": [],
   "source": [
    "df_anom.set_index('span_end_timestamp')\n",
    "df.set_index('span_end_timestamp')\n",
    "output = df.merge(df_anom,how='outer', suffixes=['','_y'])\n",
    "output.plot('span_end_timestamp', y=['value-FIRST','value-LAST','first_value_anom', 'last_value_anom'],figsize=(18,9),linestyle='none', marker='x')"
   ]
  },
  {
   "cell_type": "code",
   "execution_count": null,
   "metadata": {},
   "outputs": [],
   "source": [
    "print(output.sort_values(by=['span_end_timestamp'], inplace=False).to_string())"
   ]
  },
  {
   "cell_type": "code",
   "execution_count": null,
   "metadata": {},
   "outputs": [],
   "source": [
    "import apache_beam as beam\n",
    "from apache_beam.runners.interactive import interactive_runner\n",
    "import apache_beam.runners.interactive.interactive_beam as ib\n",
    "from datetime import timedelta\n",
    "\n",
    "ib.options.capture_duration = timedelta(seconds=60)"
   ]
  },
  {
   "cell_type": "code",
   "execution_count": null,
   "metadata": {},
   "outputs": [],
   "source": [
    "INFERENCE_PUBSUB_SUBS= os.path.expanduser('projects/<project>/subscriptions/outlier-detection')\n",
    "print(f'The subscription {INFERENCE_PUBSUB_SUBS} should contain the inference TF.Example files')"
   ]
  },
  {
   "cell_type": "code",
   "execution_count": null,
   "metadata": {},
   "outputs": [],
   "source": [
    "def run(args, pipeline_args):\n",
    "    \"\"\"\n",
    "    Run inference pipeline using data generated from streaming pipeline.\n",
    "    \"\"\"\n",
    "    pipeline_options = PipelineOptions(\n",
    "            pipeline_args, save_main_session=True, streaming=True)\n",
    "\n",
    "    with beam.Pipeline(options=pipeline_options) as pipeline:\n",
    "        _ = (\n",
    "                pipeline\n",
    "                | 'ReadTFExample' >> beam.io.gcp.pubsub.ReadStringsFromPubSub(subscription=args.pubsub_subscription)\n",
    "                | 'ParseExamples' >> beam.Map(lambda x: Parse(x, tf.train.Example()))\n",
    "                | RunInference(\n",
    "                        model_spec_pb2.InferenceSpecType(\n",
    "                                saved_model_spec=model_spec_pb2.SavedModelSpec(\n",
    "                                        signature_name=['serving_default'],\n",
    "                                        model_path=args.saved_model_location)))\n",
    "                | beam.ParDo(process_inference_return.ProcessReturn())\n",
    "                | beam.ParDo(process_inference_return.CheckAnomalous())\n",
    "                | beam.ParDo(print))"
   ]
  }
 ],
 "metadata": {
  "kernelspec": {
   "display_name": "Python 3",
   "language": "python",
   "name": "python3"
  },
  "language_info": {
   "codemirror_mode": {
    "name": "ipython",
    "version": 3
   },
   "file_extension": ".py",
   "mimetype": "text/x-python",
   "name": "python",
   "nbconvert_exporter": "python",
   "pygments_lexer": "ipython3",
   "version": "3.7.2"
  }
 },
 "nbformat": 4,
 "nbformat_minor": 4
}
